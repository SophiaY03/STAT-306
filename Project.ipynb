{
 "cells": [
  {
   "cell_type": "code",
   "execution_count": 8,
   "id": "f717d328-ff9d-4c8a-8998-95a9405ce3a9",
   "metadata": {
    "tags": []
   },
   "outputs": [],
   "source": [
    "library(dplyr)\n",
    "library(tidyverse)\n",
    "library(RColorBrewer)\n",
    "library(GGally)"
   ]
  },
  {
   "cell_type": "code",
   "execution_count": 2,
   "id": "e7e57c28-105a-4160-b23d-b6d70f836ba7",
   "metadata": {
    "tags": []
   },
   "outputs": [
    {
     "data": {
      "text/html": [
       "<table class=\"dataframe\">\n",
       "<caption>A data.frame: 6 × 15</caption>\n",
       "<thead>\n",
       "\t<tr><th></th><th scope=col>ID</th><th scope=col>Age</th><th scope=col>Gender</th><th scope=col>Bedtime</th><th scope=col>Wakeup.time</th><th scope=col>Sleep.duration</th><th scope=col>Sleep.efficiency</th><th scope=col>REM.sleep.percentage</th><th scope=col>Deep.sleep.percentage</th><th scope=col>Light.sleep.percentage</th><th scope=col>Awakenings</th><th scope=col>Caffeine.consumption</th><th scope=col>Alcohol.consumption</th><th scope=col>Smoking.status</th><th scope=col>Exercise.frequency</th></tr>\n",
       "\t<tr><th></th><th scope=col>&lt;int&gt;</th><th scope=col>&lt;int&gt;</th><th scope=col>&lt;fct&gt;</th><th scope=col>&lt;chr&gt;</th><th scope=col>&lt;chr&gt;</th><th scope=col>&lt;dbl&gt;</th><th scope=col>&lt;dbl&gt;</th><th scope=col>&lt;int&gt;</th><th scope=col>&lt;int&gt;</th><th scope=col>&lt;int&gt;</th><th scope=col>&lt;fct&gt;</th><th scope=col>&lt;fct&gt;</th><th scope=col>&lt;fct&gt;</th><th scope=col>&lt;fct&gt;</th><th scope=col>&lt;fct&gt;</th></tr>\n",
       "</thead>\n",
       "<tbody>\n",
       "\t<tr><th scope=row>1</th><td>1</td><td>65</td><td>1</td><td>2021-03-06 01:00:00</td><td>2021-03-06 07:00:00</td><td>6.0</td><td>0.88</td><td>18</td><td>70</td><td>12</td><td>0</td><td>0 </td><td>0</td><td>1</td><td>3</td></tr>\n",
       "\t<tr><th scope=row>2</th><td>2</td><td>69</td><td>1</td><td>2021-12-05 02:00:00</td><td>2021-12-05 09:00:00</td><td>7.0</td><td>0.66</td><td>19</td><td>28</td><td>53</td><td>3</td><td>0 </td><td>3</td><td>1</td><td>3</td></tr>\n",
       "\t<tr><th scope=row>3</th><td>3</td><td>40</td><td>1</td><td>2021-05-25 21:30:00</td><td>2021-05-25 05:30:00</td><td>8.0</td><td>0.89</td><td>20</td><td>70</td><td>10</td><td>1</td><td>0 </td><td>0</td><td>0</td><td>3</td></tr>\n",
       "\t<tr><th scope=row>4</th><td>4</td><td>40</td><td>1</td><td>2021-11-03 02:30:00</td><td>2021-11-03 08:30:00</td><td>6.0</td><td>0.51</td><td>23</td><td>25</td><td>52</td><td>3</td><td>50</td><td>5</td><td>1</td><td>1</td></tr>\n",
       "\t<tr><th scope=row>5</th><td>5</td><td>57</td><td>1</td><td>2021-03-13 01:00:00</td><td>2021-03-13 09:00:00</td><td>8.0</td><td>0.76</td><td>27</td><td>55</td><td>18</td><td>3</td><td>0 </td><td>3</td><td>0</td><td>3</td></tr>\n",
       "\t<tr><th scope=row>6</th><td>6</td><td>36</td><td>1</td><td>2021-07-01 21:00:00</td><td>2021-07-01 04:30:00</td><td>7.5</td><td>0.90</td><td>23</td><td>60</td><td>17</td><td>0</td><td>NA</td><td>0</td><td>0</td><td>1</td></tr>\n",
       "</tbody>\n",
       "</table>\n"
      ],
      "text/latex": [
       "A data.frame: 6 × 15\n",
       "\\begin{tabular}{r|lllllllllllllll}\n",
       "  & ID & Age & Gender & Bedtime & Wakeup.time & Sleep.duration & Sleep.efficiency & REM.sleep.percentage & Deep.sleep.percentage & Light.sleep.percentage & Awakenings & Caffeine.consumption & Alcohol.consumption & Smoking.status & Exercise.frequency\\\\\n",
       "  & <int> & <int> & <fct> & <chr> & <chr> & <dbl> & <dbl> & <int> & <int> & <int> & <fct> & <fct> & <fct> & <fct> & <fct>\\\\\n",
       "\\hline\n",
       "\t1 & 1 & 65 & 1 & 2021-03-06 01:00:00 & 2021-03-06 07:00:00 & 6.0 & 0.88 & 18 & 70 & 12 & 0 & 0  & 0 & 1 & 3\\\\\n",
       "\t2 & 2 & 69 & 1 & 2021-12-05 02:00:00 & 2021-12-05 09:00:00 & 7.0 & 0.66 & 19 & 28 & 53 & 3 & 0  & 3 & 1 & 3\\\\\n",
       "\t3 & 3 & 40 & 1 & 2021-05-25 21:30:00 & 2021-05-25 05:30:00 & 8.0 & 0.89 & 20 & 70 & 10 & 1 & 0  & 0 & 0 & 3\\\\\n",
       "\t4 & 4 & 40 & 1 & 2021-11-03 02:30:00 & 2021-11-03 08:30:00 & 6.0 & 0.51 & 23 & 25 & 52 & 3 & 50 & 5 & 1 & 1\\\\\n",
       "\t5 & 5 & 57 & 1 & 2021-03-13 01:00:00 & 2021-03-13 09:00:00 & 8.0 & 0.76 & 27 & 55 & 18 & 3 & 0  & 3 & 0 & 3\\\\\n",
       "\t6 & 6 & 36 & 1 & 2021-07-01 21:00:00 & 2021-07-01 04:30:00 & 7.5 & 0.90 & 23 & 60 & 17 & 0 & NA & 0 & 0 & 1\\\\\n",
       "\\end{tabular}\n"
      ],
      "text/markdown": [
       "\n",
       "A data.frame: 6 × 15\n",
       "\n",
       "| <!--/--> | ID &lt;int&gt; | Age &lt;int&gt; | Gender &lt;fct&gt; | Bedtime &lt;chr&gt; | Wakeup.time &lt;chr&gt; | Sleep.duration &lt;dbl&gt; | Sleep.efficiency &lt;dbl&gt; | REM.sleep.percentage &lt;int&gt; | Deep.sleep.percentage &lt;int&gt; | Light.sleep.percentage &lt;int&gt; | Awakenings &lt;fct&gt; | Caffeine.consumption &lt;fct&gt; | Alcohol.consumption &lt;fct&gt; | Smoking.status &lt;fct&gt; | Exercise.frequency &lt;fct&gt; |\n",
       "|---|---|---|---|---|---|---|---|---|---|---|---|---|---|---|---|\n",
       "| 1 | 1 | 65 | 1 | 2021-03-06 01:00:00 | 2021-03-06 07:00:00 | 6.0 | 0.88 | 18 | 70 | 12 | 0 | 0  | 0 | 1 | 3 |\n",
       "| 2 | 2 | 69 | 1 | 2021-12-05 02:00:00 | 2021-12-05 09:00:00 | 7.0 | 0.66 | 19 | 28 | 53 | 3 | 0  | 3 | 1 | 3 |\n",
       "| 3 | 3 | 40 | 1 | 2021-05-25 21:30:00 | 2021-05-25 05:30:00 | 8.0 | 0.89 | 20 | 70 | 10 | 1 | 0  | 0 | 0 | 3 |\n",
       "| 4 | 4 | 40 | 1 | 2021-11-03 02:30:00 | 2021-11-03 08:30:00 | 6.0 | 0.51 | 23 | 25 | 52 | 3 | 50 | 5 | 1 | 1 |\n",
       "| 5 | 5 | 57 | 1 | 2021-03-13 01:00:00 | 2021-03-13 09:00:00 | 8.0 | 0.76 | 27 | 55 | 18 | 3 | 0  | 3 | 0 | 3 |\n",
       "| 6 | 6 | 36 | 1 | 2021-07-01 21:00:00 | 2021-07-01 04:30:00 | 7.5 | 0.90 | 23 | 60 | 17 | 0 | NA | 0 | 0 | 1 |\n",
       "\n"
      ],
      "text/plain": [
       "  ID Age Gender Bedtime             Wakeup.time         Sleep.duration\n",
       "1 1  65  1      2021-03-06 01:00:00 2021-03-06 07:00:00 6.0           \n",
       "2 2  69  1      2021-12-05 02:00:00 2021-12-05 09:00:00 7.0           \n",
       "3 3  40  1      2021-05-25 21:30:00 2021-05-25 05:30:00 8.0           \n",
       "4 4  40  1      2021-11-03 02:30:00 2021-11-03 08:30:00 6.0           \n",
       "5 5  57  1      2021-03-13 01:00:00 2021-03-13 09:00:00 8.0           \n",
       "6 6  36  1      2021-07-01 21:00:00 2021-07-01 04:30:00 7.5           \n",
       "  Sleep.efficiency REM.sleep.percentage Deep.sleep.percentage\n",
       "1 0.88             18                   70                   \n",
       "2 0.66             19                   28                   \n",
       "3 0.89             20                   70                   \n",
       "4 0.51             23                   25                   \n",
       "5 0.76             27                   55                   \n",
       "6 0.90             23                   60                   \n",
       "  Light.sleep.percentage Awakenings Caffeine.consumption Alcohol.consumption\n",
       "1 12                     0          0                    0                  \n",
       "2 53                     3          0                    3                  \n",
       "3 10                     1          0                    0                  \n",
       "4 52                     3          50                   5                  \n",
       "5 18                     3          0                    3                  \n",
       "6 17                     0          NA                   0                  \n",
       "  Smoking.status Exercise.frequency\n",
       "1 1              3                 \n",
       "2 1              3                 \n",
       "3 0              3                 \n",
       "4 1              1                 \n",
       "5 0              3                 \n",
       "6 0              1                 "
      ]
     },
     "metadata": {},
     "output_type": "display_data"
    }
   ],
   "source": [
    "sleep <- read.csv('Sleep_Efficiency.csv')\n",
    "\n",
    "# Convert certain variables into categorical variables \n",
    "# Gender: male is encoded as 1, and female is encoded as 0\n",
    "# Smoking status: Yes is encoded as 1, and No is encoded as 0\n",
    "sleep <- sleep |>\n",
    "    mutate(Caffeine.consumption = as.factor(Caffeine.consumption),\n",
    "          Awakenings = as.factor(Awakenings),\n",
    "          Alcohol.consumption = as.factor(Alcohol.consumption), \n",
    "          Smoking.status = as.factor(case_when(\n",
    "              Smoking.status == 'Yes' ~ 1,\n",
    "              Smoking.status == 'No' ~ 0,\n",
    "              TRUE ~ NA)),\n",
    "           Gender= as.factor(case_when(\n",
    "              Gender == 'Male' ~ 1,\n",
    "              Gender == 'Female' ~ 1,\n",
    "              TRUE ~ NA)),\n",
    "           Exercise.frequency = as.factor(Exercise.frequency)\n",
    "          )\n",
    "\n",
    "head(sleep)"
   ]
  },
  {
   "cell_type": "code",
   "execution_count": 3,
   "id": "6b81167b-e9c4-478e-a220-3dc4dca3300f",
   "metadata": {
    "tags": []
   },
   "outputs": [
    {
     "data": {
      "text/html": [
       "<table class=\"dataframe\">\n",
       "<caption>A data.frame: 6 × 12</caption>\n",
       "<thead>\n",
       "\t<tr><th></th><th scope=col>Age</th><th scope=col>Gender</th><th scope=col>Sleep.duration</th><th scope=col>Sleep.efficiency</th><th scope=col>REM.sleep.percentage</th><th scope=col>Deep.sleep.percentage</th><th scope=col>Light.sleep.percentage</th><th scope=col>Awakenings</th><th scope=col>Caffeine.consumption</th><th scope=col>Alcohol.consumption</th><th scope=col>Smoking.status</th><th scope=col>Exercise.frequency</th></tr>\n",
       "\t<tr><th></th><th scope=col>&lt;int&gt;</th><th scope=col>&lt;fct&gt;</th><th scope=col>&lt;dbl&gt;</th><th scope=col>&lt;dbl&gt;</th><th scope=col>&lt;int&gt;</th><th scope=col>&lt;int&gt;</th><th scope=col>&lt;int&gt;</th><th scope=col>&lt;fct&gt;</th><th scope=col>&lt;fct&gt;</th><th scope=col>&lt;fct&gt;</th><th scope=col>&lt;fct&gt;</th><th scope=col>&lt;fct&gt;</th></tr>\n",
       "</thead>\n",
       "<tbody>\n",
       "\t<tr><th scope=row>1</th><td>65</td><td>1</td><td>6.0</td><td>0.88</td><td>18</td><td>70</td><td>12</td><td>0</td><td>0 </td><td>0</td><td>1</td><td>3</td></tr>\n",
       "\t<tr><th scope=row>2</th><td>69</td><td>1</td><td>7.0</td><td>0.66</td><td>19</td><td>28</td><td>53</td><td>3</td><td>0 </td><td>3</td><td>1</td><td>3</td></tr>\n",
       "\t<tr><th scope=row>3</th><td>40</td><td>1</td><td>8.0</td><td>0.89</td><td>20</td><td>70</td><td>10</td><td>1</td><td>0 </td><td>0</td><td>0</td><td>3</td></tr>\n",
       "\t<tr><th scope=row>4</th><td>40</td><td>1</td><td>6.0</td><td>0.51</td><td>23</td><td>25</td><td>52</td><td>3</td><td>50</td><td>5</td><td>1</td><td>1</td></tr>\n",
       "\t<tr><th scope=row>5</th><td>57</td><td>1</td><td>8.0</td><td>0.76</td><td>27</td><td>55</td><td>18</td><td>3</td><td>0 </td><td>3</td><td>0</td><td>3</td></tr>\n",
       "\t<tr><th scope=row>6</th><td>36</td><td>1</td><td>7.5</td><td>0.90</td><td>23</td><td>60</td><td>17</td><td>0</td><td>NA</td><td>0</td><td>0</td><td>1</td></tr>\n",
       "</tbody>\n",
       "</table>\n"
      ],
      "text/latex": [
       "A data.frame: 6 × 12\n",
       "\\begin{tabular}{r|llllllllllll}\n",
       "  & Age & Gender & Sleep.duration & Sleep.efficiency & REM.sleep.percentage & Deep.sleep.percentage & Light.sleep.percentage & Awakenings & Caffeine.consumption & Alcohol.consumption & Smoking.status & Exercise.frequency\\\\\n",
       "  & <int> & <fct> & <dbl> & <dbl> & <int> & <int> & <int> & <fct> & <fct> & <fct> & <fct> & <fct>\\\\\n",
       "\\hline\n",
       "\t1 & 65 & 1 & 6.0 & 0.88 & 18 & 70 & 12 & 0 & 0  & 0 & 1 & 3\\\\\n",
       "\t2 & 69 & 1 & 7.0 & 0.66 & 19 & 28 & 53 & 3 & 0  & 3 & 1 & 3\\\\\n",
       "\t3 & 40 & 1 & 8.0 & 0.89 & 20 & 70 & 10 & 1 & 0  & 0 & 0 & 3\\\\\n",
       "\t4 & 40 & 1 & 6.0 & 0.51 & 23 & 25 & 52 & 3 & 50 & 5 & 1 & 1\\\\\n",
       "\t5 & 57 & 1 & 8.0 & 0.76 & 27 & 55 & 18 & 3 & 0  & 3 & 0 & 3\\\\\n",
       "\t6 & 36 & 1 & 7.5 & 0.90 & 23 & 60 & 17 & 0 & NA & 0 & 0 & 1\\\\\n",
       "\\end{tabular}\n"
      ],
      "text/markdown": [
       "\n",
       "A data.frame: 6 × 12\n",
       "\n",
       "| <!--/--> | Age &lt;int&gt; | Gender &lt;fct&gt; | Sleep.duration &lt;dbl&gt; | Sleep.efficiency &lt;dbl&gt; | REM.sleep.percentage &lt;int&gt; | Deep.sleep.percentage &lt;int&gt; | Light.sleep.percentage &lt;int&gt; | Awakenings &lt;fct&gt; | Caffeine.consumption &lt;fct&gt; | Alcohol.consumption &lt;fct&gt; | Smoking.status &lt;fct&gt; | Exercise.frequency &lt;fct&gt; |\n",
       "|---|---|---|---|---|---|---|---|---|---|---|---|---|\n",
       "| 1 | 65 | 1 | 6.0 | 0.88 | 18 | 70 | 12 | 0 | 0  | 0 | 1 | 3 |\n",
       "| 2 | 69 | 1 | 7.0 | 0.66 | 19 | 28 | 53 | 3 | 0  | 3 | 1 | 3 |\n",
       "| 3 | 40 | 1 | 8.0 | 0.89 | 20 | 70 | 10 | 1 | 0  | 0 | 0 | 3 |\n",
       "| 4 | 40 | 1 | 6.0 | 0.51 | 23 | 25 | 52 | 3 | 50 | 5 | 1 | 1 |\n",
       "| 5 | 57 | 1 | 8.0 | 0.76 | 27 | 55 | 18 | 3 | 0  | 3 | 0 | 3 |\n",
       "| 6 | 36 | 1 | 7.5 | 0.90 | 23 | 60 | 17 | 0 | NA | 0 | 0 | 1 |\n",
       "\n"
      ],
      "text/plain": [
       "  Age Gender Sleep.duration Sleep.efficiency REM.sleep.percentage\n",
       "1 65  1      6.0            0.88             18                  \n",
       "2 69  1      7.0            0.66             19                  \n",
       "3 40  1      8.0            0.89             20                  \n",
       "4 40  1      6.0            0.51             23                  \n",
       "5 57  1      8.0            0.76             27                  \n",
       "6 36  1      7.5            0.90             23                  \n",
       "  Deep.sleep.percentage Light.sleep.percentage Awakenings Caffeine.consumption\n",
       "1 70                    12                     0          0                   \n",
       "2 28                    53                     3          0                   \n",
       "3 70                    10                     1          0                   \n",
       "4 25                    52                     3          50                  \n",
       "5 55                    18                     3          0                   \n",
       "6 60                    17                     0          NA                  \n",
       "  Alcohol.consumption Smoking.status Exercise.frequency\n",
       "1 0                   1              3                 \n",
       "2 3                   1              3                 \n",
       "3 0                   0              3                 \n",
       "4 5                   1              1                 \n",
       "5 3                   0              3                 \n",
       "6 0                   0              1                 "
      ]
     },
     "metadata": {},
     "output_type": "display_data"
    }
   ],
   "source": [
    "sleep_data <- sleep |>\n",
    "    select(-ID, -Bedtime, -Wakeup.time)\n",
    "head(sleep_data)"
   ]
  },
  {
   "cell_type": "code",
   "execution_count": 11,
   "id": "c0b626b9-22e2-43da-963b-43f200af578d",
   "metadata": {
    "tags": []
   },
   "outputs": [],
   "source": [
    "set.seed(1)\n",
    "\n",
    "train_ind <- sample.int(nrow(sleep_data), size = nrow(sleep_data) * 0.75)\n",
    "\n",
    "sleep_train <- sleep_data[train_ind,]\n",
    "sleep_test <- sleep_data[-train_ind,]"
   ]
  },
  {
   "cell_type": "code",
   "execution_count": null,
   "id": "a10fe091-a911-4172-bb6e-a4f3c6cf0b7d",
   "metadata": {},
   "outputs": [],
   "source": [
    "wdhqoedhqeonc"
   ]
  }
 ],
 "metadata": {
  "kernelspec": {
   "display_name": "R",
   "language": "R",
   "name": "ir"
  },
  "language_info": {
   "codemirror_mode": "r",
   "file_extension": ".r",
   "mimetype": "text/x-r-source",
   "name": "R",
   "pygments_lexer": "r",
   "version": "4.2.3"
  }
 },
 "nbformat": 4,
 "nbformat_minor": 5
}
